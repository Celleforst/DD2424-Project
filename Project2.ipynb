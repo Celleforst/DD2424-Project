{
 "cells": [
  {
   "cell_type": "code",
   "execution_count": 2,
   "id": "5b501857-78ba-481b-ab7a-3f5b4bc144a4",
   "metadata": {
    "id": "5b501857-78ba-481b-ab7a-3f5b4bc144a4"
   },
   "outputs": [],
   "source": [
    "import os\n",
    "from PIL import Image\n",
    "import torch\n",
    "import torch.nn as nn\n",
    "import torch.optim as optim\n",
    "from torchvision import transforms, models\n",
    "from torch.utils.data import Dataset, DataLoader, random_split\n",
    "from torchvision.datasets import OxfordIIITPet\n",
    "from torchsummary import summary\n",
    "import copy"
   ]
  },
  {
   "attachments": {},
   "cell_type": "markdown",
   "id": "3a73f1dd-2fc0-45cb-a11c-1c0cc532a9a0",
   "metadata": {
    "id": "3a73f1dd-2fc0-45cb-a11c-1c0cc532a9a0"
   },
   "source": [
    "## Load Dataset"
   ]
  },
  {
   "cell_type": "code",
   "execution_count": 3,
   "id": "7479cf3f-4699-4cb4-ab82-010e8ddb2635",
   "metadata": {
    "colab": {
     "base_uri": "https://localhost:8080/"
    },
    "id": "7479cf3f-4699-4cb4-ab82-010e8ddb2635",
    "outputId": "ea0b4b7f-9dd3-4d9a-f338-c8c497fb6ca4"
   },
   "outputs": [
    {
     "name": "stderr",
     "output_type": "stream",
     "text": [
      "100%|██████████| 792M/792M [02:32<00:00, 5.20MB/s] \n",
      "100%|██████████| 19.2M/19.2M [00:03<00:00, 5.77MB/s]\n"
     ]
    },
    {
     "data": {
      "text/plain": [
       "Dataset OxfordIIITPet\n",
       "    Number of datapoints: 3680\n",
       "    Root location: data"
      ]
     },
     "execution_count": 3,
     "metadata": {},
     "output_type": "execute_result"
    }
   ],
   "source": [
    "OxfordIIITPet(root=\"data\", download=True)"
   ]
  },
  {
   "cell_type": "code",
   "execution_count": 17,
   "id": "6d431898-55ce-49dc-91f9-7dceed1fec13",
   "metadata": {
    "id": "6d431898-55ce-49dc-91f9-7dceed1fec13"
   },
   "outputs": [],
   "source": [
    "annnotations_dir = os.path.join(\"data\", \"oxford-iiit-pet\", \"annotations\")\n",
    "lines_for_files = open(os.path.join(annnotations_dir, \"list.txt\")).read().splitlines()[6:]\n",
    "species_map = {l.split()[0]: int(l.split()[2]) for l in lines_for_files}"
   ]
  },
  {
   "cell_type": "code",
   "execution_count": 18,
   "id": "66c852e4-7055-4c82-97c9-3e99e736d052",
   "metadata": {
    "id": "66c852e4-7055-4c82-97c9-3e99e736d052"
   },
   "outputs": [],
   "source": [
    "with open(os.path.join(annnotations_dir, \"trainval.txt\")) as f:\n",
    "    trainval_names = [l.split()[0] for l in f if l.strip()]\n",
    "with open(os.path.join(annnotations_dir, \"test.txt\")) as f:\n",
    "    test_names = [l.split()[0] for l in f if l.strip()]"
   ]
  },
  {
   "cell_type": "code",
   "execution_count": 19,
   "id": "145827fc-38aa-4e39-8049-e5640ed7cbe0",
   "metadata": {
    "id": "145827fc-38aa-4e39-8049-e5640ed7cbe0"
   },
   "outputs": [],
   "source": [
    "class BinaryPet(Dataset):\n",
    "    def __init__(self, root, names, species_map, transform=None):\n",
    "        self.root = root\n",
    "        self.names = names\n",
    "        self.species_map = species_map\n",
    "        self.transform = transform\n",
    "\n",
    "    def __len__(self):\n",
    "        return len(self.names)\n",
    "\n",
    "    def __getitem__(self, idx):\n",
    "        name = self.names[idx]\n",
    "        img_path = os.path.join(\n",
    "            self.root, \"oxford-iiit-pet\", \"images\", name + \".jpg\"\n",
    "        )\n",
    "        img = Image.open(img_path).convert(\"RGB\")\n",
    "        if self.transform:\n",
    "            img = self.transform(img)\n",
    "        label = self.species_map[name] - 1  # 1→cat→0, 2→dog→1\n",
    "        return img, label"
   ]
  },
  {
   "cell_type": "code",
   "execution_count": 20,
   "id": "c36d1a7d-78bc-4a58-88fa-d26a037d9f99",
   "metadata": {
    "id": "c36d1a7d-78bc-4a58-88fa-d26a037d9f99"
   },
   "outputs": [],
   "source": [
    "IMG_SIZE = 224"
   ]
  },
  {
   "cell_type": "code",
   "execution_count": 21,
   "id": "2832243b-6442-4bc5-9926-f690647a5658",
   "metadata": {
    "id": "2832243b-6442-4bc5-9926-f690647a5658"
   },
   "outputs": [],
   "source": [
    "transformIMG = transforms.Compose([\n",
    "    transforms.Resize(256),\n",
    "    transforms.CenterCrop(IMG_SIZE),\n",
    "    transforms.ToTensor(),\n",
    "    transforms.Normalize([0.485,0.456,0.406],[0.229,0.224,0.225]),\n",
    "])"
   ]
  },
  {
   "cell_type": "code",
   "execution_count": 22,
   "id": "036a6c76-bc3b-44b8-acf1-50893a352c62",
   "metadata": {
    "id": "036a6c76-bc3b-44b8-acf1-50893a352c62"
   },
   "outputs": [],
   "source": [
    "full = BinaryPet(\"data\", trainval_names, species_map, transform=transformIMG)\n",
    "n_val = int(0.1 * len(full))\n",
    "train_ds, val_ds = random_split(full, [len(full)-n_val, n_val])"
   ]
  },
  {
   "cell_type": "code",
   "execution_count": 23,
   "id": "55a8eecd-7f70-4223-9218-6023fff72e3d",
   "metadata": {
    "id": "55a8eecd-7f70-4223-9218-6023fff72e3d"
   },
   "outputs": [],
   "source": [
    "test_ds = BinaryPet(\"data\", test_names, species_map, transform=transformIMG)"
   ]
  },
  {
   "cell_type": "code",
   "execution_count": 24,
   "id": "6d2e5899-3a81-461a-bd4a-b1a5c850cb8a",
   "metadata": {
    "colab": {
     "base_uri": "https://localhost:8080/"
    },
    "id": "6d2e5899-3a81-461a-bd4a-b1a5c850cb8a",
    "outputId": "71896784-4a90-45b0-dae7-18300c9cc8ee"
   },
   "outputs": [
    {
     "name": "stderr",
     "output_type": "stream",
     "text": [
      "/usr/local/lib/python3.11/dist-packages/torch/utils/data/dataloader.py:624: UserWarning: This DataLoader will create 4 worker processes in total. Our suggested max number of worker in current system is 2, which is smaller than what this DataLoader is going to create. Please be aware that excessive worker creation might get DataLoader running slow or even freeze, lower the worker number to avoid potential slowness/freeze if necessary.\n",
      "  warnings.warn(\n"
     ]
    }
   ],
   "source": [
    "batch_size = 32\n",
    "train_loader = DataLoader(train_ds, batch_size=batch_size, shuffle=True,  num_workers=4, pin_memory=True)\n",
    "val_loader   = DataLoader(val_ds,   batch_size=batch_size, shuffle=False, num_workers=4, pin_memory=True)\n",
    "test_loader  = DataLoader(test_ds,  batch_size=batch_size, shuffle=False, num_workers=4, pin_memory=True)"
   ]
  },
  {
   "attachments": {},
   "cell_type": "markdown",
   "id": "0260f07f-a459-4d27-9f5d-bb6c1eee575f",
   "metadata": {
    "id": "0260f07f-a459-4d27-9f5d-bb6c1eee575f"
   },
   "source": [
    "# Binary Classification"
   ]
  },
  {
   "attachments": {},
   "cell_type": "markdown",
   "id": "0460ecda-9f16-4270-b7e8-a988442797c5",
   "metadata": {
    "id": "0460ecda-9f16-4270-b7e8-a988442797c5"
   },
   "source": [
    "## Model Set Up"
   ]
  },
  {
   "cell_type": "code",
   "execution_count": 35,
   "id": "7ed618ac-37af-464d-a735-3223b0dbc071",
   "metadata": {
    "id": "7ed618ac-37af-464d-a735-3223b0dbc071"
   },
   "outputs": [],
   "source": [
    "device = torch.device(\"cuda\" if torch.cuda.is_available() else \"cpu\")\n",
    "model = models.resnet34(weights=models.ResNet34_Weights.DEFAULT)\n",
    "# freezing all\n",
    "for p in model.parameters():\n",
    "    p.requires_grad = False\n",
    "# changing the fully connected layer\n",
    "model.fc = nn.Linear(model.fc.in_features, 2)\n",
    "# Uunfreeze the fully connected last layer\n",
    "for name, p in model.named_parameters():\n",
    "    if name.startswith(\"fc\"):\n",
    "        p.requires_grad = True\n",
    "model = model.to(device)"
   ]
  },
  {
   "cell_type": "code",
   "execution_count": 36,
   "id": "c32651b9-0f2c-4736-b3db-10fbb6486f70",
   "metadata": {
    "id": "c32651b9-0f2c-4736-b3db-10fbb6486f70"
   },
   "outputs": [],
   "source": [
    "criterion = nn.CrossEntropyLoss()"
   ]
  },
  {
   "cell_type": "code",
   "execution_count": 37,
   "id": "55100d27-1851-43fb-8039-3d1cd7ab6b6c",
   "metadata": {
    "id": "55100d27-1851-43fb-8039-3d1cd7ab6b6c"
   },
   "outputs": [],
   "source": [
    "optimizer = optim.Adam([\n",
    "    {\"params\": model.fc.parameters(),     \"lr\": 1e-3, \"weight_decay\": 1e-4},\n",
    "])\n"
   ]
  },
  {
   "attachments": {},
   "cell_type": "markdown",
   "id": "f0d1cdba-bc33-42a1-8f75-3dd5de75288e",
   "metadata": {
    "id": "f0d1cdba-bc33-42a1-8f75-3dd5de75288e"
   },
   "source": [
    "## Training"
   ]
  },
  {
   "cell_type": "code",
   "execution_count": 38,
   "id": "d1dcabae-3911-4cd2-96ac-52e4c0158183",
   "metadata": {
    "id": "d1dcabae-3911-4cd2-96ac-52e4c0158183"
   },
   "outputs": [],
   "source": [
    "def run_epoch(model, loader, train=True):\n",
    "    model.train() if train else model.eval()\n",
    "    total_loss, correct, total = 0.0, 0, 0\n",
    "    for imgs, labs in loader:\n",
    "        imgs, labs = imgs.to(device), labs.to(device)\n",
    "        if train:\n",
    "            optimizer.zero_grad()\n",
    "        logits = model(imgs)\n",
    "        loss   = criterion(logits, labs)\n",
    "        if train:\n",
    "            loss.backward()\n",
    "            optimizer.step()\n",
    "        total_loss += loss.item() * imgs.size(0)\n",
    "        preds      = logits.argmax(dim=1)\n",
    "        correct   += (preds == labs).sum().item()\n",
    "        total     += imgs.size(0)\n",
    "    return total_loss/total, correct/total*100\n"
   ]
  },
  {
   "cell_type": "code",
   "execution_count": 39,
   "id": "30e5a381-42b4-4676-8d65-1d1a7e8bebc7",
   "metadata": {
    "colab": {
     "base_uri": "https://localhost:8080/"
    },
    "id": "30e5a381-42b4-4676-8d65-1d1a7e8bebc7",
    "outputId": "22c5b5eb-ff84-4a2d-f23a-e4d8e586a618"
   },
   "outputs": [
    {
     "name": "stdout",
     "output_type": "stream",
     "text": [
      "Epoch  1 | Train: 93.69% | Val: 96.74%\n",
      "Epoch  2 | Train: 98.04% | Val: 98.37%\n",
      "Epoch  3 | Train: 98.13% | Val: 98.10%\n",
      "Epoch  4 | Train: 98.82% | Val: 97.01%\n",
      "Epoch  5 | Train: 98.31% | Val: 97.83%\n",
      "Epoch  6 | Train: 98.46% | Val: 99.18%\n",
      "Epoch  7 | Train: 98.85% | Val: 98.37%\n",
      "Epoch  8 | Train: 99.03% | Val: 97.83%\n",
      "Epoch  9 | Train: 99.06% | Val: 98.37%\n",
      "Epoch 10 | Train: 98.85% | Val: 98.64%\n",
      "Epoch 11 | Train: 99.15% | Val: 99.18%\n",
      "Epoch 12 | Train: 98.88% | Val: 97.55%\n",
      "Epoch 13 | Train: 99.37% | Val: 98.37%\n",
      "Epoch 14 | Train: 99.03% | Val: 98.91%\n",
      "Epoch 15 | Train: 98.97% | Val: 99.46%\n",
      "Epoch 16 | Train: 99.21% | Val: 98.91%\n",
      "Epoch 17 | Train: 99.25% | Val: 98.64%\n",
      "Epoch 18 | Train: 99.58% | Val: 98.64%\n",
      "Epoch 19 | Train: 99.43% | Val: 98.91%\n"
     ]
    }
   ],
   "source": [
    "best_val_acc = 0.0\n",
    "for epoch in range(1, 20):\n",
    "    tr_loss, tr_acc = run_epoch(model, train_loader, train=True)\n",
    "    val_loss, val_acc = run_epoch(model, val_loader, train=False)\n",
    "    print(f\"Epoch {epoch:2d} | Train: {tr_acc:.2f}% | Val: {val_acc:.2f}%\")\n",
    "    if val_acc > best_val_acc:\n",
    "        best_val_acc = val_acc\n",
    "        torch.save(model.state_dict(), \"best_binary_resnet34.pth\")"
   ]
  },
  {
   "cell_type": "code",
   "execution_count": 72,
   "id": "32b86600-f7a0-4cc0-afb1-3e954c369c90",
   "metadata": {
    "colab": {
     "base_uri": "https://localhost:8080/"
    },
    "id": "32b86600-f7a0-4cc0-afb1-3e954c369c90",
    "outputId": "f6752014-bd4b-4e6c-e54e-88b08ee65910"
   },
   "outputs": [
    {
     "name": "stderr",
     "output_type": "stream",
     "text": [
      "/usr/local/lib/python3.11/dist-packages/torch/utils/data/dataloader.py:624: UserWarning: This DataLoader will create 4 worker processes in total. Our suggested max number of worker in current system is 2, which is smaller than what this DataLoader is going to create. Please be aware that excessive worker creation might get DataLoader running slow or even freeze, lower the worker number to avoid potential slowness/freeze if necessary.\n",
      "  warnings.warn(\n"
     ]
    },
    {
     "name": "stdout",
     "output_type": "stream",
     "text": [
      "Test Accuracy: 99.21%\n"
     ]
    }
   ],
   "source": [
    "model.load_state_dict(torch.load(\"best_binary_resnet34.pth\"))\n",
    "test_loss, test_acc = run_epoch(model, test_loader, train=False)\n",
    "print(f\"Test Accuracy: {test_acc:.2f}%\")"
   ]
  },
  {
   "attachments": {},
   "cell_type": "markdown",
   "id": "96d5105c-c2ad-4f6c-9691-8a633635463e",
   "metadata": {
    "id": "96d5105c-c2ad-4f6c-9691-8a633635463e"
   },
   "source": [
    "# Multi Class Classification"
   ]
  },
  {
   "attachments": {},
   "cell_type": "markdown",
   "id": "43c0dd7a-4be4-4bbe-aacd-1287a8a74d40",
   "metadata": {
    "id": "43c0dd7a-4be4-4bbe-aacd-1287a8a74d40"
   },
   "source": [
    "## Model Set Up"
   ]
  },
  {
   "attachments": {},
   "cell_type": "markdown",
   "id": "dd141001-26a0-41a4-8271-973d728f26e6",
   "metadata": {
    "id": "dd141001-26a0-41a4-8271-973d728f26e6"
   },
   "source": [
    "### Strategy 1: Fine-tune l layers simultaneously"
   ]
  },
  {
   "cell_type": "code",
   "execution_count": null,
   "id": "5gEq85XVbWKK",
   "metadata": {
    "id": "5gEq85XVbWKK"
   },
   "outputs": [],
   "source": [
    "def train_model(model, epochs, path=\"model.pth\"):\n",
    "  best_val_acc = 0.0\n",
    "  for epoch in range(1,epochs+1):\n",
    "    tr_loss, tr_acc = run_epoch(train_loader, train=True)\n",
    "    val_loss, val_acc = run_epoch(val_loader, train=False)\n",
    "    print(f\"Epoch {epoch:2d} | Train: {tr_acc:.2f}% | Val: {val_acc:.2f}%\")\n",
    "    if val_acc > best_val_acc:\n",
    "        best_val_acc = val_acc\n",
    "        torch.save(model.state_dict(), path)\n",
    "\n",
    "  test_acc = test_model(model=model)\n",
    "  return test_acc\n"
   ]
  },
  {
   "cell_type": "code",
   "execution_count": 74,
   "id": "XCgUTxgGcioF",
   "metadata": {
    "id": "XCgUTxgGcioF"
   },
   "outputs": [],
   "source": [
    "def test_model(model=None, path=None):\n",
    "  if not model:\n",
    "    if not path:\n",
    "      print(\"error: plaese provide model or path to model\")\n",
    "      return\n",
    "    else:\n",
    "      model.load_state_dict(torch.load(path))\n",
    "\n",
    "  test_loss, test_acc = run_epoch(test_loader, train=False)\n",
    "  print(f\"Test Accuracy: {test_acc:.2f}%\")\n",
    "  return test_acc"
   ]
  },
  {
   "cell_type": "code",
   "execution_count": 63,
   "id": "yz3GOeqeXfNL",
   "metadata": {
    "id": "yz3GOeqeXfNL"
   },
   "outputs": [],
   "source": [
    "def init_model(basemodel, device, output, unfreeze):\n",
    "  model = copy.deepcopy(basemodel)\n",
    "  # changing the fully connected layer\n",
    "  model.fc = nn.Linear(model.fc.in_features, output)\n",
    "\n",
    "  # Unfreeze the L last layers and fully connected last layer\n",
    "  model = unfreeze_layers(model, unfreeze)\n",
    "\n",
    "  model = model.to(device)\n",
    "\n",
    "  return model"
   ]
  },
  {
   "cell_type": "code",
   "execution_count": 67,
   "id": "9mRbPl4iaoZ3",
   "metadata": {
    "id": "9mRbPl4iaoZ3"
   },
   "outputs": [],
   "source": [
    "def check_trainable_layers(model):\n",
    "  for name, param in model.named_parameters():\n",
    "    if param.requires_grad:\n",
    "        print(f\"{name} requires grad\")\n",
    "    else:\n",
    "        print(f\"{name} does NOT require grad\")"
   ]
  },
  {
   "cell_type": "code",
   "execution_count": 44,
   "id": "4NY0szpuU0wa",
   "metadata": {
    "id": "4NY0szpuU0wa"
   },
   "outputs": [],
   "source": [
    "def unfreeze_layers(model, L):\n",
    "  # freezing all layers\n",
    "  for p in model.parameters():\n",
    "      p.requires_grad = False\n",
    "\n",
    "  layer = 0\n",
    "  # unfreeze last L layers and fully connected layer\n",
    "  for name, p in reversed(list(model.named_parameters())):\n",
    "    if layer < L+1:\n",
    "      if not name.endswith(\"bias\"):\n",
    "        layer += 1\n",
    "      p.requires_grad = True\n",
    "\n",
    "  return model"
   ]
  },
  {
   "cell_type": "code",
   "execution_count": 70,
   "id": "b159b267-e687-41fc-b7f9-066b5d96848c",
   "metadata": {
    "id": "b159b267-e687-41fc-b7f9-066b5d96848c"
   },
   "outputs": [],
   "source": [
    "device = torch.device(\"cuda\" if torch.cuda.is_available() else \"cpu\")\n",
    "basemodel = models.resnet34(weights=models.ResNet34_Weights.DEFAULT)"
   ]
  },
  {
   "cell_type": "code",
   "execution_count": null,
   "id": "WJbuKDtJaKgA",
   "metadata": {
    "colab": {
     "base_uri": "https://localhost:8080/"
    },
    "id": "WJbuKDtJaKgA",
    "outputId": "0d331baa-1d41-4142-d26c-424a68a26a5b"
   },
   "outputs": [
    {
     "name": "stdout",
     "output_type": "stream",
     "text": [
      "Start training model with 1 last layers trainable\n"
     ]
    },
    {
     "name": "stderr",
     "output_type": "stream",
     "text": [
      "/usr/local/lib/python3.11/dist-packages/torch/utils/data/dataloader.py:624: UserWarning: This DataLoader will create 4 worker processes in total. Our suggested max number of worker in current system is 2, which is smaller than what this DataLoader is going to create. Please be aware that excessive worker creation might get DataLoader running slow or even freeze, lower the worker number to avoid potential slowness/freeze if necessary.\n",
      "  warnings.warn(\n"
     ]
    },
    {
     "name": "stdout",
     "output_type": "stream",
     "text": [
      "Epoch  1 | Train: 99.31% | Val: 98.91%\n",
      "Epoch  2 | Train: 98.70% | Val: 97.83%\n",
      "Epoch  3 | Train: 99.28% | Val: 98.64%\n",
      "Epoch  4 | Train: 99.31% | Val: 98.91%\n",
      "Epoch  5 | Train: 99.15% | Val: 98.91%\n",
      "Epoch  6 | Train: 99.40% | Val: 98.91%\n",
      "Epoch  7 | Train: 99.34% | Val: 98.37%\n",
      "Epoch  8 | Train: 99.31% | Val: 99.46%\n",
      "Epoch  9 | Train: 99.31% | Val: 98.37%\n",
      "Epoch 10 | Train: 99.31% | Val: 98.10%\n",
      "Test Accuracy: 98.99%\n",
      "Start training model with 2 last layers trainable\n",
      "Epoch  1 | Train: 99.31% | Val: 98.91%\n",
      "Epoch  2 | Train: 99.28% | Val: 98.91%\n",
      "Epoch  3 | Train: 99.55% | Val: 98.10%\n",
      "Epoch  4 | Train: 99.31% | Val: 98.64%\n",
      "Epoch  5 | Train: 98.64% | Val: 98.64%\n",
      "Epoch  6 | Train: 99.18% | Val: 97.83%\n",
      "Epoch  7 | Train: 99.58% | Val: 99.18%\n",
      "Epoch  8 | Train: 99.25% | Val: 98.64%\n",
      "Epoch  9 | Train: 99.28% | Val: 99.46%\n",
      "Epoch 10 | Train: 99.55% | Val: 98.10%\n",
      "Test Accuracy: 98.66%\n",
      "Start training model with 3 last layers trainable\n",
      "Epoch  1 | Train: 99.34% | Val: 98.10%\n",
      "Epoch  2 | Train: 98.79% | Val: 98.10%\n",
      "Epoch  3 | Train: 99.61% | Val: 98.91%\n",
      "Epoch  4 | Train: 99.49% | Val: 98.37%\n",
      "Epoch  5 | Train: 99.15% | Val: 97.83%\n",
      "Epoch  6 | Train: 98.79% | Val: 98.64%\n",
      "Epoch  7 | Train: 99.40% | Val: 98.64%\n",
      "Epoch  8 | Train: 99.73% | Val: 98.91%\n",
      "Epoch  9 | Train: 99.64% | Val: 98.37%\n",
      "Epoch 10 | Train: 99.31% | Val: 98.91%\n",
      "Test Accuracy: 99.35%\n",
      "Start training model with 4 last layers trainable\n",
      "Epoch  1 | Train: 99.28% | Val: 98.64%\n",
      "Epoch  2 | Train: 99.37% | Val: 98.91%\n",
      "Epoch  3 | Train: 99.46% | Val: 98.91%\n",
      "Epoch  4 | Train: 99.73% | Val: 98.37%\n"
     ]
    }
   ],
   "source": [
    "accs = []\n",
    "for L in range(1, 10):\n",
    "  print(f\"Start training model with {L} last layers trainable\")\n",
    "  modelmulti = init_model(basemodel, device, 37, L)\n",
    "  accs.append(train_model(modelmulti, 10))"
   ]
  },
  {
   "cell_type": "code",
   "execution_count": null,
   "id": "vQdtxDaSeTEd",
   "metadata": {
    "id": "vQdtxDaSeTEd"
   },
   "outputs": [],
   "source": []
  }
 ],
 "metadata": {
  "accelerator": "GPU",
  "colab": {
   "gpuType": "T4",
   "provenance": []
  },
  "kernelspec": {
   "display_name": "Python 3 (ipykernel)",
   "language": "python",
   "name": "python3"
  },
  "language_info": {
   "codemirror_mode": {
    "name": "ipython",
    "version": 3
   },
   "file_extension": ".py",
   "mimetype": "text/x-python",
   "name": "python",
   "nbconvert_exporter": "python",
   "pygments_lexer": "ipython3",
   "version": "3.12.2"
  }
 },
 "nbformat": 4,
 "nbformat_minor": 5
}
